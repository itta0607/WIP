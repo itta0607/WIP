{
  "nbformat": 4,
  "nbformat_minor": 0,
  "metadata": {
    "colab": {
      "provenance": [],
      "authorship_tag": "ABX9TyOb07hxXnsrHeRc3uGSckFz",
      "include_colab_link": true
    },
    "kernelspec": {
      "name": "python3",
      "display_name": "Python 3"
    },
    "language_info": {
      "name": "python"
    }
  },
  "cells": [
    {
      "cell_type": "markdown",
      "metadata": {
        "id": "view-in-github",
        "colab_type": "text"
      },
      "source": [
        "<a href=\"https://colab.research.google.com/github/itta0607/WIP/blob/main/wip_5.ipynb\" target=\"_parent\"><img src=\"https://colab.research.google.com/assets/colab-badge.svg\" alt=\"Open In Colab\"/></a>"
      ]
    },
    {
      "cell_type": "code",
      "source": [
        "# ✅ セル①：Google Driveマウント & ライブラリインストール\n",
        "from google.colab import drive\n",
        "drive.mount('/content/drive')\n",
        "\n",
        "!pip install mediapipe\n"
      ],
      "metadata": {
        "colab": {
          "base_uri": "https://localhost:8080/"
        },
        "id": "tklIir4KNUSC",
        "outputId": "8dfee80b-e688-4b13-e936-b0979b563582"
      },
      "execution_count": 1,
      "outputs": [
        {
          "output_type": "stream",
          "name": "stdout",
          "text": [
            "Drive already mounted at /content/drive; to attempt to forcibly remount, call drive.mount(\"/content/drive\", force_remount=True).\n",
            "Requirement already satisfied: mediapipe in /usr/local/lib/python3.11/dist-packages (0.10.21)\n",
            "Requirement already satisfied: absl-py in /usr/local/lib/python3.11/dist-packages (from mediapipe) (1.4.0)\n",
            "Requirement already satisfied: attrs>=19.1.0 in /usr/local/lib/python3.11/dist-packages (from mediapipe) (25.3.0)\n",
            "Requirement already satisfied: flatbuffers>=2.0 in /usr/local/lib/python3.11/dist-packages (from mediapipe) (25.2.10)\n",
            "Requirement already satisfied: jax in /usr/local/lib/python3.11/dist-packages (from mediapipe) (0.5.2)\n",
            "Requirement already satisfied: jaxlib in /usr/local/lib/python3.11/dist-packages (from mediapipe) (0.5.1)\n",
            "Requirement already satisfied: matplotlib in /usr/local/lib/python3.11/dist-packages (from mediapipe) (3.10.0)\n",
            "Requirement already satisfied: numpy<2 in /usr/local/lib/python3.11/dist-packages (from mediapipe) (1.26.4)\n",
            "Requirement already satisfied: opencv-contrib-python in /usr/local/lib/python3.11/dist-packages (from mediapipe) (4.11.0.86)\n",
            "Requirement already satisfied: protobuf<5,>=4.25.3 in /usr/local/lib/python3.11/dist-packages (from mediapipe) (4.25.8)\n",
            "Requirement already satisfied: sounddevice>=0.4.4 in /usr/local/lib/python3.11/dist-packages (from mediapipe) (0.5.2)\n",
            "Requirement already satisfied: sentencepiece in /usr/local/lib/python3.11/dist-packages (from mediapipe) (0.2.0)\n",
            "Requirement already satisfied: CFFI>=1.0 in /usr/local/lib/python3.11/dist-packages (from sounddevice>=0.4.4->mediapipe) (1.17.1)\n",
            "Requirement already satisfied: ml_dtypes>=0.4.0 in /usr/local/lib/python3.11/dist-packages (from jax->mediapipe) (0.4.1)\n",
            "Requirement already satisfied: opt_einsum in /usr/local/lib/python3.11/dist-packages (from jax->mediapipe) (3.4.0)\n",
            "Requirement already satisfied: scipy>=1.11.1 in /usr/local/lib/python3.11/dist-packages (from jax->mediapipe) (1.15.3)\n",
            "Requirement already satisfied: contourpy>=1.0.1 in /usr/local/lib/python3.11/dist-packages (from matplotlib->mediapipe) (1.3.2)\n",
            "Requirement already satisfied: cycler>=0.10 in /usr/local/lib/python3.11/dist-packages (from matplotlib->mediapipe) (0.12.1)\n",
            "Requirement already satisfied: fonttools>=4.22.0 in /usr/local/lib/python3.11/dist-packages (from matplotlib->mediapipe) (4.58.5)\n",
            "Requirement already satisfied: kiwisolver>=1.3.1 in /usr/local/lib/python3.11/dist-packages (from matplotlib->mediapipe) (1.4.8)\n",
            "Requirement already satisfied: packaging>=20.0 in /usr/local/lib/python3.11/dist-packages (from matplotlib->mediapipe) (25.0)\n",
            "Requirement already satisfied: pillow>=8 in /usr/local/lib/python3.11/dist-packages (from matplotlib->mediapipe) (11.2.1)\n",
            "Requirement already satisfied: pyparsing>=2.3.1 in /usr/local/lib/python3.11/dist-packages (from matplotlib->mediapipe) (3.2.3)\n",
            "Requirement already satisfied: python-dateutil>=2.7 in /usr/local/lib/python3.11/dist-packages (from matplotlib->mediapipe) (2.9.0.post0)\n",
            "Requirement already satisfied: pycparser in /usr/local/lib/python3.11/dist-packages (from CFFI>=1.0->sounddevice>=0.4.4->mediapipe) (2.22)\n",
            "Requirement already satisfied: six>=1.5 in /usr/local/lib/python3.11/dist-packages (from python-dateutil>=2.7->matplotlib->mediapipe) (1.17.0)\n"
          ]
        }
      ]
    },
    {
      "cell_type": "code",
      "source": [
        "# ✅ セル②：ライブラリ読み込み & パス設定\n",
        "import os\n",
        "import cv2\n",
        "import mediapipe as mp\n",
        "import pandas as pd\n",
        "import numpy as np\n",
        "from pathlib import Path\n",
        "from sklearn.ensemble import RandomForestClassifier\n",
        "from sklearn.metrics import classification_report, accuracy_score\n",
        "\n",
        "train_video_path = Path(\"/content/drive/MyDrive/gym_videos_train\")\n",
        "test_video_path = Path(\"/content/drive/MyDrive/gym_videos_test\")\n",
        "train_csv_path = Path(\"/content/drive/MyDrive/gym_keypoints/train\")\n",
        "test_csv_path = Path(\"/content/drive/MyDrive/gym_keypoints/test\")\n"
      ],
      "metadata": {
        "id": "ln2TINE3OXxl"
      },
      "execution_count": 2,
      "outputs": []
    },
    {
      "cell_type": "code",
      "source": [
        "# ✅ セル③：MediaPipe初期化 & 関数定義\n",
        "mp_pose = mp.solutions.pose\n",
        "pose = mp_pose.Pose(static_image_mode=False)\n",
        "\n",
        "def process_video(video_path, output_csv_path, label):\n",
        "    cap = cv2.VideoCapture(str(video_path))\n",
        "    all_landmarks = []\n",
        "\n",
        "    while cap.isOpened():\n",
        "        ret, frame = cap.read()\n",
        "        if not ret:\n",
        "            break\n",
        "        frame_rgb = cv2.cvtColor(frame, cv2.COLOR_BGR2RGB)\n",
        "        result = pose.process(frame_rgb)\n",
        "\n",
        "        if result.pose_landmarks:\n",
        "            row = []\n",
        "            for landmark in result.pose_landmarks.landmark:\n",
        "                row.extend([landmark.x, landmark.y, landmark.z, landmark.visibility])\n",
        "            row.append(label)\n",
        "            all_landmarks.append(row)\n",
        "\n",
        "    cap.release()\n",
        "\n",
        "    if all_landmarks:\n",
        "        df = pd.DataFrame(all_landmarks)\n",
        "        os.makedirs(output_csv_path.parent, exist_ok=True)\n",
        "        df.to_csv(output_csv_path, index=False)\n",
        "        print(f\"✅ Saved: {output_csv_path}\")\n",
        "    else:\n",
        "        print(f\"⚠️ No pose detected: {video_path}\")\n"
      ],
      "metadata": {
        "id": "Lw2KfSObObXy"
      },
      "execution_count": 3,
      "outputs": []
    },
    {
      "cell_type": "code",
      "source": [
        "# ✅ セル④：学習用動画のCSV変換\n",
        "for class_folder in train_video_path.iterdir():\n",
        "    if class_folder.is_dir():\n",
        "        label = class_folder.name\n",
        "        for video_file in class_folder.glob(\"*\"):\n",
        "            if video_file.suffix.lower() in [\".mp4\", \".mov\", \".m4v\"]:\n",
        "                output_csv = train_csv_path / label / (video_file.stem + \".csv\")\n",
        "                process_video(video_file, output_csv, label)\n"
      ],
      "metadata": {
        "colab": {
          "base_uri": "https://localhost:8080/"
        },
        "id": "cTtZx5PAOgOv",
        "outputId": "81781934-fcb9-427b-8718-d27c342318d9"
      },
      "execution_count": 5,
      "outputs": [
        {
          "output_type": "stream",
          "name": "stdout",
          "text": [
            "✅ Saved: /content/drive/MyDrive/gym_keypoints/train/arm_curl/IMG_1795 (4).csv\n",
            "✅ Saved: /content/drive/MyDrive/gym_keypoints/train/arm_curl/IMG_1795 (3).csv\n",
            "✅ Saved: /content/drive/MyDrive/gym_keypoints/train/arm_curl/IMG_1795 (2).csv\n",
            "✅ Saved: /content/drive/MyDrive/gym_keypoints/train/arm_curl/IMG_1795 (1).csv\n",
            "✅ Saved: /content/drive/MyDrive/gym_keypoints/train/arm_curl/IMG_1795.csv\n",
            "✅ Saved: /content/drive/MyDrive/gym_keypoints/train/bench_press/IMG_1792 (4).csv\n",
            "✅ Saved: /content/drive/MyDrive/gym_keypoints/train/bench_press/IMG_1792 (3).csv\n",
            "✅ Saved: /content/drive/MyDrive/gym_keypoints/train/bench_press/IMG_1792 (2).csv\n",
            "✅ Saved: /content/drive/MyDrive/gym_keypoints/train/bench_press/IMG_1792 (1).csv\n",
            "✅ Saved: /content/drive/MyDrive/gym_keypoints/train/bench_press/IMG_1792.csv\n",
            "✅ Saved: /content/drive/MyDrive/gym_keypoints/train/bent_over_row/IMG_1794 (4).csv\n",
            "✅ Saved: /content/drive/MyDrive/gym_keypoints/train/bent_over_row/IMG_1794 (3).csv\n",
            "✅ Saved: /content/drive/MyDrive/gym_keypoints/train/bent_over_row/IMG_1794 (2).csv\n",
            "✅ Saved: /content/drive/MyDrive/gym_keypoints/train/bent_over_row/IMG_1794 (1).csv\n",
            "✅ Saved: /content/drive/MyDrive/gym_keypoints/train/bent_over_row/IMG_1794.csv\n",
            "✅ Saved: /content/drive/MyDrive/gym_keypoints/train/chest_press/IMG_1791 (4).csv\n",
            "✅ Saved: /content/drive/MyDrive/gym_keypoints/train/chest_press/IMG_1791 (3).csv\n",
            "✅ Saved: /content/drive/MyDrive/gym_keypoints/train/chest_press/IMG_1791 (2).csv\n",
            "✅ Saved: /content/drive/MyDrive/gym_keypoints/train/chest_press/IMG_1791 (1).csv\n",
            "✅ Saved: /content/drive/MyDrive/gym_keypoints/train/chest_press/IMG_1791.csv\n",
            "✅ Saved: /content/drive/MyDrive/gym_keypoints/train/dumbbell_fly/IMG_1797 (4).csv\n",
            "✅ Saved: /content/drive/MyDrive/gym_keypoints/train/dumbbell_fly/IMG_1797 (3).csv\n",
            "✅ Saved: /content/drive/MyDrive/gym_keypoints/train/dumbbell_fly/IMG_1797 (2).csv\n",
            "✅ Saved: /content/drive/MyDrive/gym_keypoints/train/dumbbell_fly/IMG_1797 (1).csv\n",
            "✅ Saved: /content/drive/MyDrive/gym_keypoints/train/dumbbell_fly/IMG_1797.csv\n",
            "✅ Saved: /content/drive/MyDrive/gym_keypoints/train/hammer_curl/IMG_1798 (4).csv\n",
            "✅ Saved: /content/drive/MyDrive/gym_keypoints/train/hammer_curl/IMG_1798 (3).csv\n",
            "✅ Saved: /content/drive/MyDrive/gym_keypoints/train/hammer_curl/IMG_1798 (2).csv\n",
            "✅ Saved: /content/drive/MyDrive/gym_keypoints/train/hammer_curl/IMG_1798 (1).csv\n",
            "✅ Saved: /content/drive/MyDrive/gym_keypoints/train/hammer_curl/IMG_1798.csv\n",
            "✅ Saved: /content/drive/MyDrive/gym_keypoints/train/lat_pull_down/IMG_1789 (4).csv\n",
            "✅ Saved: /content/drive/MyDrive/gym_keypoints/train/lat_pull_down/IMG_1789 (3).csv\n",
            "✅ Saved: /content/drive/MyDrive/gym_keypoints/train/lat_pull_down/IMG_1789 (2).csv\n",
            "✅ Saved: /content/drive/MyDrive/gym_keypoints/train/lat_pull_down/IMG_1789 (1).csv\n",
            "✅ Saved: /content/drive/MyDrive/gym_keypoints/train/lat_pull_down/IMG_1789.csv\n",
            "✅ Saved: /content/drive/MyDrive/gym_keypoints/train/lateral_raise/IMG_1796 (4).csv\n",
            "✅ Saved: /content/drive/MyDrive/gym_keypoints/train/lateral_raise/IMG_1796 (3).csv\n",
            "✅ Saved: /content/drive/MyDrive/gym_keypoints/train/lateral_raise/IMG_1796 (2).csv\n",
            "✅ Saved: /content/drive/MyDrive/gym_keypoints/train/lateral_raise/IMG_1796 (1).csv\n",
            "✅ Saved: /content/drive/MyDrive/gym_keypoints/train/lateral_raise/IMG_1796.csv\n",
            "✅ Saved: /content/drive/MyDrive/gym_keypoints/train/leg_extension/IMG_1784 (4).csv\n",
            "✅ Saved: /content/drive/MyDrive/gym_keypoints/train/leg_extension/IMG_1784 (3).csv\n",
            "✅ Saved: /content/drive/MyDrive/gym_keypoints/train/leg_extension/IMG_1784 (2).csv\n",
            "✅ Saved: /content/drive/MyDrive/gym_keypoints/train/leg_extension/IMG_1784 (1).csv\n",
            "✅ Saved: /content/drive/MyDrive/gym_keypoints/train/leg_extension/IMG_1784.csv\n",
            "✅ Saved: /content/drive/MyDrive/gym_keypoints/train/leg_press/IMG_1799 (4).csv\n",
            "✅ Saved: /content/drive/MyDrive/gym_keypoints/train/leg_press/IMG_1799 (3).csv\n",
            "✅ Saved: /content/drive/MyDrive/gym_keypoints/train/leg_press/IMG_1799 (2).csv\n",
            "✅ Saved: /content/drive/MyDrive/gym_keypoints/train/leg_press/IMG_1799 (1).csv\n",
            "✅ Saved: /content/drive/MyDrive/gym_keypoints/train/leg_press/IMG_1799.csv\n",
            "✅ Saved: /content/drive/MyDrive/gym_keypoints/train/pec_fly/IMG_1790 (4).csv\n",
            "✅ Saved: /content/drive/MyDrive/gym_keypoints/train/pec_fly/IMG_1790 (3).csv\n",
            "✅ Saved: /content/drive/MyDrive/gym_keypoints/train/pec_fly/IMG_1790 (2).csv\n",
            "✅ Saved: /content/drive/MyDrive/gym_keypoints/train/pec_fly/IMG_1790 (1).csv\n",
            "✅ Saved: /content/drive/MyDrive/gym_keypoints/train/pec_fly/IMG_1790.csv\n",
            "✅ Saved: /content/drive/MyDrive/gym_keypoints/train/shoulder_prsss/IMG_1787 (4).csv\n",
            "✅ Saved: /content/drive/MyDrive/gym_keypoints/train/shoulder_prsss/IMG_1787 (3).csv\n",
            "✅ Saved: /content/drive/MyDrive/gym_keypoints/train/shoulder_prsss/IMG_1787 (2).csv\n",
            "✅ Saved: /content/drive/MyDrive/gym_keypoints/train/shoulder_prsss/IMG_1787 (1).csv\n",
            "✅ Saved: /content/drive/MyDrive/gym_keypoints/train/shoulder_prsss/IMG_1787.csv\n",
            "✅ Saved: /content/drive/MyDrive/gym_keypoints/train/squat/IMG_1793 (4).csv\n",
            "✅ Saved: /content/drive/MyDrive/gym_keypoints/train/squat/IMG_1793 (3).csv\n",
            "✅ Saved: /content/drive/MyDrive/gym_keypoints/train/squat/IMG_1793 (2).csv\n",
            "✅ Saved: /content/drive/MyDrive/gym_keypoints/train/squat/IMG_1793 (1).csv\n",
            "✅ Saved: /content/drive/MyDrive/gym_keypoints/train/squat/IMG_1793.csv\n"
          ]
        }
      ]
    },
    {
      "cell_type": "code",
      "source": [
        "# ✅ セル⑤：テスト用動画のCSV変換\n",
        "for class_folder in test_video_path.iterdir():\n",
        "    if class_folder.is_dir():\n",
        "        label = class_folder.name\n",
        "        for video_file in class_folder.glob(\"*\"):\n",
        "            if video_file.suffix.lower() in [\".mp4\", \".mov\", \".m4v\"]:\n",
        "                output_csv = test_csv_path / label / (video_file.stem + \".csv\")\n",
        "                process_video(video_file, output_csv, label)"
      ],
      "metadata": {
        "colab": {
          "base_uri": "https://localhost:8080/"
        },
        "id": "mQAl4l-ObrKc",
        "outputId": "06179881-6615-4d40-90d7-8c6bcce3d97d"
      },
      "execution_count": 6,
      "outputs": [
        {
          "output_type": "stream",
          "name": "stdout",
          "text": [
            "✅ Saved: /content/drive/MyDrive/gym_keypoints/test/arm_curl/IMG_1795 (1).csv\n",
            "✅ Saved: /content/drive/MyDrive/gym_keypoints/test/arm_curl/IMG_1795.csv\n",
            "✅ Saved: /content/drive/MyDrive/gym_keypoints/test/bench_press/IMG_1792 (1).csv\n",
            "✅ Saved: /content/drive/MyDrive/gym_keypoints/test/bench_press/IMG_1792.csv\n",
            "✅ Saved: /content/drive/MyDrive/gym_keypoints/test/bent_over_row/IMG_1794 (1).csv\n",
            "✅ Saved: /content/drive/MyDrive/gym_keypoints/test/bent_over_row/IMG_1794.csv\n",
            "✅ Saved: /content/drive/MyDrive/gym_keypoints/test/chest_press/IMG_1791 (1).csv\n",
            "✅ Saved: /content/drive/MyDrive/gym_keypoints/test/chest_press/IMG_1791.csv\n",
            "✅ Saved: /content/drive/MyDrive/gym_keypoints/test/dumbbell_fly/IMG_1797 (1).csv\n",
            "✅ Saved: /content/drive/MyDrive/gym_keypoints/test/dumbbell_fly/IMG_1797.csv\n",
            "✅ Saved: /content/drive/MyDrive/gym_keypoints/test/hammer_curl/IMG_1798 (1).csv\n",
            "✅ Saved: /content/drive/MyDrive/gym_keypoints/test/hammer_curl/IMG_1798.csv\n",
            "✅ Saved: /content/drive/MyDrive/gym_keypoints/test/lat_pull_down/IMG_1789 (1).csv\n",
            "✅ Saved: /content/drive/MyDrive/gym_keypoints/test/lat_pull_down/IMG_1789.csv\n",
            "✅ Saved: /content/drive/MyDrive/gym_keypoints/test/lateral_raise/IMG_1796 (1).csv\n",
            "✅ Saved: /content/drive/MyDrive/gym_keypoints/test/lateral_raise/IMG_1796.csv\n",
            "✅ Saved: /content/drive/MyDrive/gym_keypoints/test/leg_extension/IMG_1784 (1).csv\n",
            "✅ Saved: /content/drive/MyDrive/gym_keypoints/test/leg_extension/IMG_1784.csv\n",
            "✅ Saved: /content/drive/MyDrive/gym_keypoints/test/leg_press/IMG_1799 (1).csv\n",
            "✅ Saved: /content/drive/MyDrive/gym_keypoints/test/leg_press/IMG_1799.csv\n",
            "✅ Saved: /content/drive/MyDrive/gym_keypoints/test/pec_fly/IMG_1790 (1).csv\n",
            "✅ Saved: /content/drive/MyDrive/gym_keypoints/test/pec_fly/IMG_1790.csv\n",
            "✅ Saved: /content/drive/MyDrive/gym_keypoints/test/shoulder_press/IMG_1787.csv\n",
            "✅ Saved: /content/drive/MyDrive/gym_keypoints/test/shoulder_press/IMG_1788.csv\n",
            "✅ Saved: /content/drive/MyDrive/gym_keypoints/test/squat/IMG_1793 (1).csv\n",
            "✅ Saved: /content/drive/MyDrive/gym_keypoints/test/squat/IMG_1793.csv\n"
          ]
        }
      ]
    },
    {
      "cell_type": "code",
      "source": [
        "def load_dataset(csv_dir):\n",
        "    data = []\n",
        "    labels = []\n",
        "    for label_folder in csv_dir.iterdir():\n",
        "        if label_folder.is_dir():\n",
        "            label = label_folder.name\n",
        "            for csv_file in label_folder.glob(\"*.csv\"):\n",
        "                df = pd.read_csv(csv_file)\n",
        "\n",
        "                # 数値列だけを取り出して平均をとる\n",
        "                numeric_df = df.select_dtypes(include=[np.number])\n",
        "                mean_row = numeric_df.mean().values\n",
        "\n",
        "                data.append(mean_row)\n",
        "                labels.append(label)\n",
        "    return np.array(data), np.array(labels)\n"
      ],
      "metadata": {
        "id": "jIBNlpArecUu"
      },
      "execution_count": 9,
      "outputs": []
    },
    {
      "cell_type": "code",
      "source": [
        "# ✅ セル⑦：学習・テスト用CSV読み込み\n",
        "X_train, y_train = load_dataset(train_csv_path)\n",
        "X_test, y_test = load_dataset(test_csv_path)\n"
      ],
      "metadata": {
        "id": "WAUmpWKqedQG"
      },
      "execution_count": 10,
      "outputs": []
    },
    {
      "cell_type": "code",
      "source": [
        "# ✅ セル⑧：分類器の学習と評価\n",
        "clf = RandomForestClassifier(n_estimators=100, random_state=42)\n",
        "clf.fit(X_train, y_train)\n",
        "y_pred = clf.predict(X_test)\n",
        "\n",
        "print(\"\\n📊 Classification Report:\\n\")\n",
        "print(classification_report(y_test, y_pred))\n",
        "print(\"✅ Accuracy:\", accuracy_score(y_test, y_pred))\n"
      ],
      "metadata": {
        "colab": {
          "base_uri": "https://localhost:8080/"
        },
        "id": "2rycadhEel_c",
        "outputId": "42d87bcf-cdf4-4a46-cbdc-00ba10b03a4e"
      },
      "execution_count": 11,
      "outputs": [
        {
          "output_type": "stream",
          "name": "stdout",
          "text": [
            "\n",
            "📊 Classification Report:\n",
            "\n",
            "                      precision    recall  f1-score   support\n",
            "\n",
            "            arm_curl       0.50      1.00      0.67         2\n",
            "      arm_curl_train       0.00      0.00      0.00         2\n",
            "         bench_press       0.50      1.00      0.67         2\n",
            "   bench_press_train       0.00      0.00      0.00         2\n",
            "       bent_over_row       0.50      0.50      0.50         2\n",
            "  bent_over_row_test       0.00      0.00      0.00         2\n",
            " bent_over_row_train       0.00      0.00      0.00         0\n",
            "         chest_press       0.00      0.00      0.00         2\n",
            "    chest_press_test       0.00      0.00      0.00         2\n",
            "   chest_press_train       0.00      0.00      0.00         0\n",
            "        dumbbell_fly       0.67      1.00      0.80         2\n",
            "   dumbbell_fly_test       0.00      0.00      0.00         2\n",
            "  dumbbell_fly_train       0.00      0.00      0.00         0\n",
            "         hammer_curl       0.50      1.00      0.67         2\n",
            "    hammer_curl_test       0.00      0.00      0.00         2\n",
            "       lat_pull_down       0.00      0.00      0.00         2\n",
            "  lat_pull_down_test       0.00      0.00      0.00         2\n",
            " lat_pull_down_train       0.00      0.00      0.00         0\n",
            "       lateral_raise       0.50      1.00      0.67         2\n",
            "  lateral_raise_test       0.00      0.00      0.00         2\n",
            "       leg_extension       0.50      1.00      0.67         2\n",
            "  leg_extension_test       0.00      0.00      0.00         2\n",
            "           leg_press       0.00      0.00      0.00         2\n",
            "      leg_press_test       0.00      0.00      0.00         2\n",
            "     leg_press_train       0.00      0.00      0.00         0\n",
            "             pec_fly       0.50      0.50      0.50         2\n",
            "        pec_fly_test       0.00      0.00      0.00         2\n",
            "       pec_fly_train       0.00      0.00      0.00         0\n",
            "      shoulder_press       0.00      0.00      0.00         2\n",
            " shoulder_press_test       0.00      0.00      0.00         2\n",
            "shoulder_prsss_train       0.00      0.00      0.00         0\n",
            "               squat       0.50      1.00      0.67         2\n",
            "          squat_test       0.00      0.00      0.00         2\n",
            "\n",
            "            accuracy                           0.31        52\n",
            "           macro avg       0.14      0.24      0.18        52\n",
            "        weighted avg       0.18      0.31      0.22        52\n",
            "\n",
            "✅ Accuracy: 0.3076923076923077\n"
          ]
        },
        {
          "output_type": "stream",
          "name": "stderr",
          "text": [
            "/usr/local/lib/python3.11/dist-packages/sklearn/metrics/_classification.py:1565: UndefinedMetricWarning: Precision is ill-defined and being set to 0.0 in labels with no predicted samples. Use `zero_division` parameter to control this behavior.\n",
            "  _warn_prf(average, modifier, f\"{metric.capitalize()} is\", len(result))\n",
            "/usr/local/lib/python3.11/dist-packages/sklearn/metrics/_classification.py:1565: UndefinedMetricWarning: Recall is ill-defined and being set to 0.0 in labels with no true samples. Use `zero_division` parameter to control this behavior.\n",
            "  _warn_prf(average, modifier, f\"{metric.capitalize()} is\", len(result))\n",
            "/usr/local/lib/python3.11/dist-packages/sklearn/metrics/_classification.py:1565: UndefinedMetricWarning: Precision is ill-defined and being set to 0.0 in labels with no predicted samples. Use `zero_division` parameter to control this behavior.\n",
            "  _warn_prf(average, modifier, f\"{metric.capitalize()} is\", len(result))\n",
            "/usr/local/lib/python3.11/dist-packages/sklearn/metrics/_classification.py:1565: UndefinedMetricWarning: Recall is ill-defined and being set to 0.0 in labels with no true samples. Use `zero_division` parameter to control this behavior.\n",
            "  _warn_prf(average, modifier, f\"{metric.capitalize()} is\", len(result))\n",
            "/usr/local/lib/python3.11/dist-packages/sklearn/metrics/_classification.py:1565: UndefinedMetricWarning: Precision is ill-defined and being set to 0.0 in labels with no predicted samples. Use `zero_division` parameter to control this behavior.\n",
            "  _warn_prf(average, modifier, f\"{metric.capitalize()} is\", len(result))\n",
            "/usr/local/lib/python3.11/dist-packages/sklearn/metrics/_classification.py:1565: UndefinedMetricWarning: Recall is ill-defined and being set to 0.0 in labels with no true samples. Use `zero_division` parameter to control this behavior.\n",
            "  _warn_prf(average, modifier, f\"{metric.capitalize()} is\", len(result))\n"
          ]
        }
      ]
    }
  ]
}