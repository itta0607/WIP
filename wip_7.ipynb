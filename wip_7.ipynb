{
  "nbformat": 4,
  "nbformat_minor": 0,
  "metadata": {
    "colab": {
      "provenance": [],
      "authorship_tag": "ABX9TyPcrNB6RKVZ6RK9nKdOLW5r",
      "include_colab_link": true
    },
    "kernelspec": {
      "name": "python3",
      "display_name": "Python 3"
    },
    "language_info": {
      "name": "python"
    }
  },
  "cells": [
    {
      "cell_type": "markdown",
      "metadata": {
        "id": "view-in-github",
        "colab_type": "text"
      },
      "source": [
        "<a href=\"https://colab.research.google.com/github/itta0607/WIP/blob/main/wip_7.ipynb\" target=\"_parent\"><img src=\"https://colab.research.google.com/assets/colab-badge.svg\" alt=\"Open In Colab\"/></a>"
      ]
    },
    {
      "cell_type": "markdown",
      "source": [
        "✅ セル①：Google Driveマウント & ライブラリインストール"
      ],
      "metadata": {
        "id": "AG8k6jMw5ljp"
      }
    },
    {
      "cell_type": "code",
      "source": [
        "from google.colab import drive\n",
        "drive.mount('/content/drive')\n",
        "\n",
        "!pip install mediapipe\n"
      ],
      "metadata": {
        "colab": {
          "base_uri": "https://localhost:8080/"
        },
        "id": "tklIir4KNUSC",
        "outputId": "b7930cad-fa26-4279-e3ab-d8bc072f52b5"
      },
      "execution_count": null,
      "outputs": [
        {
          "output_type": "stream",
          "name": "stdout",
          "text": [
            "Drive already mounted at /content/drive; to attempt to forcibly remount, call drive.mount(\"/content/drive\", force_remount=True).\n",
            "Requirement already satisfied: mediapipe in /usr/local/lib/python3.11/dist-packages (0.10.21)\n",
            "Requirement already satisfied: absl-py in /usr/local/lib/python3.11/dist-packages (from mediapipe) (1.4.0)\n",
            "Requirement already satisfied: attrs>=19.1.0 in /usr/local/lib/python3.11/dist-packages (from mediapipe) (25.3.0)\n",
            "Requirement already satisfied: flatbuffers>=2.0 in /usr/local/lib/python3.11/dist-packages (from mediapipe) (25.2.10)\n",
            "Requirement already satisfied: jax in /usr/local/lib/python3.11/dist-packages (from mediapipe) (0.5.2)\n",
            "Requirement already satisfied: jaxlib in /usr/local/lib/python3.11/dist-packages (from mediapipe) (0.5.1)\n",
            "Requirement already satisfied: matplotlib in /usr/local/lib/python3.11/dist-packages (from mediapipe) (3.10.0)\n",
            "Requirement already satisfied: numpy<2 in /usr/local/lib/python3.11/dist-packages (from mediapipe) (1.26.4)\n",
            "Requirement already satisfied: opencv-contrib-python in /usr/local/lib/python3.11/dist-packages (from mediapipe) (4.11.0.86)\n",
            "Requirement already satisfied: protobuf<5,>=4.25.3 in /usr/local/lib/python3.11/dist-packages (from mediapipe) (4.25.8)\n",
            "Requirement already satisfied: sounddevice>=0.4.4 in /usr/local/lib/python3.11/dist-packages (from mediapipe) (0.5.2)\n",
            "Requirement already satisfied: sentencepiece in /usr/local/lib/python3.11/dist-packages (from mediapipe) (0.2.0)\n",
            "Requirement already satisfied: CFFI>=1.0 in /usr/local/lib/python3.11/dist-packages (from sounddevice>=0.4.4->mediapipe) (1.17.1)\n",
            "Requirement already satisfied: ml_dtypes>=0.4.0 in /usr/local/lib/python3.11/dist-packages (from jax->mediapipe) (0.4.1)\n",
            "Requirement already satisfied: opt_einsum in /usr/local/lib/python3.11/dist-packages (from jax->mediapipe) (3.4.0)\n",
            "Requirement already satisfied: scipy>=1.11.1 in /usr/local/lib/python3.11/dist-packages (from jax->mediapipe) (1.16.0)\n",
            "Requirement already satisfied: contourpy>=1.0.1 in /usr/local/lib/python3.11/dist-packages (from matplotlib->mediapipe) (1.3.2)\n",
            "Requirement already satisfied: cycler>=0.10 in /usr/local/lib/python3.11/dist-packages (from matplotlib->mediapipe) (0.12.1)\n",
            "Requirement already satisfied: fonttools>=4.22.0 in /usr/local/lib/python3.11/dist-packages (from matplotlib->mediapipe) (4.59.0)\n",
            "Requirement already satisfied: kiwisolver>=1.3.1 in /usr/local/lib/python3.11/dist-packages (from matplotlib->mediapipe) (1.4.8)\n",
            "Requirement already satisfied: packaging>=20.0 in /usr/local/lib/python3.11/dist-packages (from matplotlib->mediapipe) (25.0)\n",
            "Requirement already satisfied: pillow>=8 in /usr/local/lib/python3.11/dist-packages (from matplotlib->mediapipe) (11.3.0)\n",
            "Requirement already satisfied: pyparsing>=2.3.1 in /usr/local/lib/python3.11/dist-packages (from matplotlib->mediapipe) (3.2.3)\n",
            "Requirement already satisfied: python-dateutil>=2.7 in /usr/local/lib/python3.11/dist-packages (from matplotlib->mediapipe) (2.9.0.post0)\n",
            "Requirement already satisfied: pycparser in /usr/local/lib/python3.11/dist-packages (from CFFI>=1.0->sounddevice>=0.4.4->mediapipe) (2.22)\n",
            "Requirement already satisfied: six>=1.5 in /usr/local/lib/python3.11/dist-packages (from python-dateutil>=2.7->matplotlib->mediapipe) (1.17.0)\n"
          ]
        }
      ]
    },
    {
      "cell_type": "markdown",
      "source": [
        "✅ セル②：ライブラリ読み込み & パス設定"
      ],
      "metadata": {
        "id": "r_9z3SH76gAT"
      }
    },
    {
      "cell_type": "code",
      "source": [
        "import os\n",
        "import cv2\n",
        "import mediapipe as mp\n",
        "import pandas as pd\n",
        "import numpy as np\n",
        "from pathlib import Path\n",
        "from sklearn.ensemble import RandomForestClassifier\n",
        "from sklearn.metrics import classification_report, accuracy_score\n",
        "\n",
        "train_video_path = Path(\"/content/drive/MyDrive/gym_videos_train\")\n",
        "test_video_path = Path(\"/content/drive/MyDrive/gym_videos_test\")\n",
        "train_csv_path = Path(\"/content/drive/MyDrive/gym_keypoints/train\")\n",
        "test_csv_path = Path(\"/content/drive/MyDrive/gym_keypoints/test\")\n"
      ],
      "metadata": {
        "id": "ln2TINE3OXxl"
      },
      "execution_count": null,
      "outputs": []
    },
    {
      "cell_type": "markdown",
      "source": [
        "✅ セル③：MediaPipe初期化 & 関数定義"
      ],
      "metadata": {
        "id": "AwoJGx9d6kdc"
      }
    },
    {
      "cell_type": "code",
      "source": [
        "mp_pose = mp.solutions.pose\n",
        "pose = mp_pose.Pose(static_image_mode=False)\n",
        "\n",
        "def process_video(video_path, output_csv_path, label):\n",
        "    cap = cv2.VideoCapture(str(video_path))\n",
        "    all_landmarks = []\n",
        "\n",
        "    while cap.isOpened():\n",
        "        ret, frame = cap.read()\n",
        "        if not ret:\n",
        "            break\n",
        "        frame_rgb = cv2.cvtColor(frame, cv2.COLOR_BGR2RGB)\n",
        "        result = pose.process(frame_rgb)\n",
        "\n",
        "        if result.pose_landmarks:\n",
        "            row = []\n",
        "            for landmark in result.pose_landmarks.landmark:\n",
        "                row.extend([landmark.x, landmark.y, landmark.z, landmark.visibility])\n",
        "            row.append(label)\n",
        "            all_landmarks.append(row)\n",
        "\n",
        "    cap.release()\n",
        "\n",
        "    if all_landmarks:\n",
        "        df = pd.DataFrame(all_landmarks)\n",
        "        os.makedirs(output_csv_path.parent, exist_ok=True)\n",
        "        df.to_csv(output_csv_path, index=False)\n",
        "        print(f\"✅ Saved: {output_csv_path}\")\n",
        "    else:\n",
        "        print(f\"⚠️ No pose detected: {video_path}\")\n"
      ],
      "metadata": {
        "id": "Lw2KfSObObXy"
      },
      "execution_count": null,
      "outputs": []
    },
    {
      "cell_type": "markdown",
      "source": [
        "✅ セル④：学習用動画のCSV変換"
      ],
      "metadata": {
        "id": "ni9XJKyK9aB5"
      }
    },
    {
      "cell_type": "code",
      "source": [
        "for class_folder in train_video_path.iterdir():\n",
        "    if class_folder.is_dir():\n",
        "        label = class_folder.name.replace('_train', '').replace('_test', '')\n",
        "        for video_file in class_folder.glob(\"*\"):\n",
        "            if video_file.suffix.lower() in [\".mp4\", \".mov\", \".m4v\"]:\n",
        "                output_csv = train_csv_path / label / (video_file.stem + \".csv\")\n",
        "                process_video(video_file, output_csv, label)"
      ],
      "metadata": {
        "colab": {
          "base_uri": "https://localhost:8080/"
        },
        "id": "ydbK4I6TOASE",
        "outputId": "89f69ec8-e747-4125-a644-f649065b9226"
      },
      "execution_count": null,
      "outputs": [
        {
          "output_type": "stream",
          "name": "stdout",
          "text": [
            "✅ Saved: /content/drive/MyDrive/gym_keypoints/train/arm_curl/IMG_1795 (4).csv\n",
            "✅ Saved: /content/drive/MyDrive/gym_keypoints/train/arm_curl/IMG_1795 (3).csv\n",
            "✅ Saved: /content/drive/MyDrive/gym_keypoints/train/arm_curl/IMG_1795 (2).csv\n",
            "✅ Saved: /content/drive/MyDrive/gym_keypoints/train/arm_curl/IMG_1795 (1).csv\n",
            "✅ Saved: /content/drive/MyDrive/gym_keypoints/train/arm_curl/IMG_1795.csv\n",
            "✅ Saved: /content/drive/MyDrive/gym_keypoints/train/bench_press/IMG_1792 (4).csv\n",
            "✅ Saved: /content/drive/MyDrive/gym_keypoints/train/bench_press/IMG_1792 (3).csv\n",
            "✅ Saved: /content/drive/MyDrive/gym_keypoints/train/bench_press/IMG_1792 (2).csv\n",
            "✅ Saved: /content/drive/MyDrive/gym_keypoints/train/bench_press/IMG_1792 (1).csv\n",
            "✅ Saved: /content/drive/MyDrive/gym_keypoints/train/bench_press/IMG_1792.csv\n",
            "✅ Saved: /content/drive/MyDrive/gym_keypoints/train/bent_over_row/IMG_1794 (4).csv\n",
            "✅ Saved: /content/drive/MyDrive/gym_keypoints/train/bent_over_row/IMG_1794 (3).csv\n",
            "✅ Saved: /content/drive/MyDrive/gym_keypoints/train/bent_over_row/IMG_1794 (2).csv\n",
            "✅ Saved: /content/drive/MyDrive/gym_keypoints/train/bent_over_row/IMG_1794 (1).csv\n",
            "✅ Saved: /content/drive/MyDrive/gym_keypoints/train/bent_over_row/IMG_1794.csv\n",
            "✅ Saved: /content/drive/MyDrive/gym_keypoints/train/chest_press/IMG_1791 (4).csv\n",
            "✅ Saved: /content/drive/MyDrive/gym_keypoints/train/chest_press/IMG_1791 (3).csv\n",
            "✅ Saved: /content/drive/MyDrive/gym_keypoints/train/chest_press/IMG_1791 (2).csv\n",
            "✅ Saved: /content/drive/MyDrive/gym_keypoints/train/chest_press/IMG_1791 (1).csv\n",
            "✅ Saved: /content/drive/MyDrive/gym_keypoints/train/chest_press/IMG_1791.csv\n",
            "✅ Saved: /content/drive/MyDrive/gym_keypoints/train/dumbbell_fly/IMG_1797 (4).csv\n",
            "✅ Saved: /content/drive/MyDrive/gym_keypoints/train/dumbbell_fly/IMG_1797 (3).csv\n",
            "✅ Saved: /content/drive/MyDrive/gym_keypoints/train/dumbbell_fly/IMG_1797 (2).csv\n",
            "✅ Saved: /content/drive/MyDrive/gym_keypoints/train/dumbbell_fly/IMG_1797 (1).csv\n",
            "✅ Saved: /content/drive/MyDrive/gym_keypoints/train/dumbbell_fly/IMG_1797.csv\n",
            "✅ Saved: /content/drive/MyDrive/gym_keypoints/train/hammer_curl/IMG_1798 (4).csv\n",
            "✅ Saved: /content/drive/MyDrive/gym_keypoints/train/hammer_curl/IMG_1798 (3).csv\n",
            "✅ Saved: /content/drive/MyDrive/gym_keypoints/train/hammer_curl/IMG_1798 (2).csv\n",
            "✅ Saved: /content/drive/MyDrive/gym_keypoints/train/hammer_curl/IMG_1798 (1).csv\n",
            "✅ Saved: /content/drive/MyDrive/gym_keypoints/train/hammer_curl/IMG_1798.csv\n",
            "✅ Saved: /content/drive/MyDrive/gym_keypoints/train/lat_pull_down/IMG_1789 (4).csv\n",
            "✅ Saved: /content/drive/MyDrive/gym_keypoints/train/lat_pull_down/IMG_1789 (3).csv\n",
            "✅ Saved: /content/drive/MyDrive/gym_keypoints/train/lat_pull_down/IMG_1789 (2).csv\n",
            "✅ Saved: /content/drive/MyDrive/gym_keypoints/train/lat_pull_down/IMG_1789 (1).csv\n",
            "✅ Saved: /content/drive/MyDrive/gym_keypoints/train/lat_pull_down/IMG_1789.csv\n",
            "✅ Saved: /content/drive/MyDrive/gym_keypoints/train/lateral_raise/IMG_1796 (4).csv\n",
            "✅ Saved: /content/drive/MyDrive/gym_keypoints/train/lateral_raise/IMG_1796 (3).csv\n",
            "✅ Saved: /content/drive/MyDrive/gym_keypoints/train/lateral_raise/IMG_1796 (2).csv\n",
            "✅ Saved: /content/drive/MyDrive/gym_keypoints/train/lateral_raise/IMG_1796 (1).csv\n",
            "✅ Saved: /content/drive/MyDrive/gym_keypoints/train/lateral_raise/IMG_1796.csv\n",
            "✅ Saved: /content/drive/MyDrive/gym_keypoints/train/leg_extension/IMG_1784 (4).csv\n",
            "✅ Saved: /content/drive/MyDrive/gym_keypoints/train/leg_extension/IMG_1784 (3).csv\n",
            "✅ Saved: /content/drive/MyDrive/gym_keypoints/train/leg_extension/IMG_1784 (2).csv\n",
            "✅ Saved: /content/drive/MyDrive/gym_keypoints/train/leg_extension/IMG_1784 (1).csv\n",
            "✅ Saved: /content/drive/MyDrive/gym_keypoints/train/leg_extension/IMG_1784.csv\n",
            "✅ Saved: /content/drive/MyDrive/gym_keypoints/train/leg_press/IMG_1799 (4).csv\n",
            "✅ Saved: /content/drive/MyDrive/gym_keypoints/train/leg_press/IMG_1799 (3).csv\n",
            "✅ Saved: /content/drive/MyDrive/gym_keypoints/train/leg_press/IMG_1799 (2).csv\n",
            "✅ Saved: /content/drive/MyDrive/gym_keypoints/train/leg_press/IMG_1799 (1).csv\n",
            "✅ Saved: /content/drive/MyDrive/gym_keypoints/train/leg_press/IMG_1799.csv\n",
            "✅ Saved: /content/drive/MyDrive/gym_keypoints/train/pec_fly/IMG_1790 (4).csv\n",
            "✅ Saved: /content/drive/MyDrive/gym_keypoints/train/pec_fly/IMG_1790 (3).csv\n",
            "✅ Saved: /content/drive/MyDrive/gym_keypoints/train/pec_fly/IMG_1790 (2).csv\n",
            "✅ Saved: /content/drive/MyDrive/gym_keypoints/train/pec_fly/IMG_1790 (1).csv\n",
            "✅ Saved: /content/drive/MyDrive/gym_keypoints/train/pec_fly/IMG_1790.csv\n",
            "✅ Saved: /content/drive/MyDrive/gym_keypoints/train/squat/IMG_1793 (4).csv\n",
            "✅ Saved: /content/drive/MyDrive/gym_keypoints/train/squat/IMG_1793 (3).csv\n",
            "✅ Saved: /content/drive/MyDrive/gym_keypoints/train/squat/IMG_1793 (2).csv\n",
            "✅ Saved: /content/drive/MyDrive/gym_keypoints/train/squat/IMG_1793 (1).csv\n",
            "✅ Saved: /content/drive/MyDrive/gym_keypoints/train/squat/IMG_1793.csv\n",
            "✅ Saved: /content/drive/MyDrive/gym_keypoints/train/shoulder_press/IMG_1787 (4).csv\n",
            "✅ Saved: /content/drive/MyDrive/gym_keypoints/train/shoulder_press/IMG_1787 (3).csv\n",
            "✅ Saved: /content/drive/MyDrive/gym_keypoints/train/shoulder_press/IMG_1787 (2).csv\n",
            "✅ Saved: /content/drive/MyDrive/gym_keypoints/train/shoulder_press/IMG_1787 (1).csv\n",
            "✅ Saved: /content/drive/MyDrive/gym_keypoints/train/shoulder_press/IMG_1787.csv\n"
          ]
        }
      ]
    },
    {
      "cell_type": "markdown",
      "source": [
        "✅ セル⑤：テスト用動画のCSV変換\n",
        "\n",
        "\n",
        "\n"
      ],
      "metadata": {
        "id": "hf6nt2-I73-0"
      }
    },
    {
      "cell_type": "code",
      "source": [
        "for class_folder in test_video_path.iterdir():\n",
        "    if class_folder.is_dir():\n",
        "        label = class_folder.name.replace('_train', '').replace('_test', '')\n",
        "        for video_file in class_folder.glob(\"*\"):\n",
        "            if video_file.suffix.lower() in [\".mp4\", \".mov\", \".m4v\"]:\n",
        "                output_csv = test_csv_path / label / (video_file.stem + \".csv\")\n",
        "                process_video(video_file, output_csv, label)\n"
      ],
      "metadata": {
        "colab": {
          "base_uri": "https://localhost:8080/"
        },
        "id": "VQeeuOmpHLNI",
        "outputId": "36a8cedb-c77c-43a3-c97f-8724a8fd1b99"
      },
      "execution_count": null,
      "outputs": [
        {
          "output_type": "stream",
          "name": "stdout",
          "text": [
            "✅ Saved: /content/drive/MyDrive/gym_keypoints/test/arm_curl/IMG_1795 (1).csv\n",
            "✅ Saved: /content/drive/MyDrive/gym_keypoints/test/arm_curl/IMG_1795.csv\n",
            "✅ Saved: /content/drive/MyDrive/gym_keypoints/test/arm_curl/IMG_2179 (1).csv\n",
            "✅ Saved: /content/drive/MyDrive/gym_keypoints/test/arm_curl/IMG_2179.csv\n",
            "✅ Saved: /content/drive/MyDrive/gym_keypoints/test/bench_press/IMG_1792 (1).csv\n",
            "✅ Saved: /content/drive/MyDrive/gym_keypoints/test/bench_press/IMG_1792.csv\n",
            "✅ Saved: /content/drive/MyDrive/gym_keypoints/test/bench_press/IMG_2175 (1).csv\n",
            "✅ Saved: /content/drive/MyDrive/gym_keypoints/test/bench_press/IMG_2175.csv\n",
            "✅ Saved: /content/drive/MyDrive/gym_keypoints/test/bent_over_row/IMG_1794 (1).csv\n",
            "✅ Saved: /content/drive/MyDrive/gym_keypoints/test/bent_over_row/IMG_1794.csv\n",
            "✅ Saved: /content/drive/MyDrive/gym_keypoints/test/bent_over_row/IMG_2177 (1).csv\n",
            "✅ Saved: /content/drive/MyDrive/gym_keypoints/test/bent_over_row/IMG_2177.csv\n",
            "✅ Saved: /content/drive/MyDrive/gym_keypoints/test/chest_press/IMG_1791 (1).csv\n",
            "✅ Saved: /content/drive/MyDrive/gym_keypoints/test/chest_press/IMG_1791.csv\n",
            "✅ Saved: /content/drive/MyDrive/gym_keypoints/test/chest_press/IMG_2185 (1).csv\n",
            "✅ Saved: /content/drive/MyDrive/gym_keypoints/test/chest_press/IMG_2185.csv\n",
            "✅ Saved: /content/drive/MyDrive/gym_keypoints/test/dumbbell_fly/IMG_1797 (1).csv\n",
            "✅ Saved: /content/drive/MyDrive/gym_keypoints/test/dumbbell_fly/IMG_1797.csv\n",
            "✅ Saved: /content/drive/MyDrive/gym_keypoints/test/dumbbell_fly/IMG_2180 (1).csv\n",
            "✅ Saved: /content/drive/MyDrive/gym_keypoints/test/dumbbell_fly/IMG_2180.csv\n",
            "✅ Saved: /content/drive/MyDrive/gym_keypoints/test/hammer_curl/IMG_1798 (1).csv\n",
            "✅ Saved: /content/drive/MyDrive/gym_keypoints/test/hammer_curl/IMG_1798.csv\n",
            "✅ Saved: /content/drive/MyDrive/gym_keypoints/test/hammer_curl/IMG_2178 (1).csv\n",
            "✅ Saved: /content/drive/MyDrive/gym_keypoints/test/hammer_curl/IMG_2178.csv\n",
            "✅ Saved: /content/drive/MyDrive/gym_keypoints/test/lat_pull_down/IMG_1789 (1).csv\n",
            "✅ Saved: /content/drive/MyDrive/gym_keypoints/test/lat_pull_down/IMG_1789.csv\n",
            "✅ Saved: /content/drive/MyDrive/gym_keypoints/test/lat_pull_down/IMG_2181 (1).csv\n",
            "✅ Saved: /content/drive/MyDrive/gym_keypoints/test/lat_pull_down/IMG_2181.csv\n",
            "✅ Saved: /content/drive/MyDrive/gym_keypoints/test/lateral_raise/IMG_1796 (1).csv\n",
            "✅ Saved: /content/drive/MyDrive/gym_keypoints/test/lateral_raise/IMG_1796.csv\n",
            "✅ Saved: /content/drive/MyDrive/gym_keypoints/test/lateral_raise/IMG_2178 (1).csv\n",
            "✅ Saved: /content/drive/MyDrive/gym_keypoints/test/lateral_raise/IMG_2178.csv\n",
            "✅ Saved: /content/drive/MyDrive/gym_keypoints/test/leg_extension/IMG_1784 (1).csv\n",
            "✅ Saved: /content/drive/MyDrive/gym_keypoints/test/leg_extension/IMG_1784.csv\n",
            "✅ Saved: /content/drive/MyDrive/gym_keypoints/test/leg_extension/IMG_2182 (1).csv\n",
            "✅ Saved: /content/drive/MyDrive/gym_keypoints/test/leg_extension/IMG_2182.csv\n",
            "✅ Saved: /content/drive/MyDrive/gym_keypoints/test/leg_press/IMG_1799 (1).csv\n",
            "✅ Saved: /content/drive/MyDrive/gym_keypoints/test/leg_press/IMG_1799.csv\n",
            "✅ Saved: /content/drive/MyDrive/gym_keypoints/test/leg_press/IMG_2183 (1).csv\n",
            "✅ Saved: /content/drive/MyDrive/gym_keypoints/test/leg_press/IMG_2183.csv\n",
            "✅ Saved: /content/drive/MyDrive/gym_keypoints/test/pec_fly/IMG_1790 (1).csv\n",
            "✅ Saved: /content/drive/MyDrive/gym_keypoints/test/pec_fly/IMG_1790.csv\n",
            "✅ Saved: /content/drive/MyDrive/gym_keypoints/test/pec_fly/IMG_2186 (1).csv\n",
            "✅ Saved: /content/drive/MyDrive/gym_keypoints/test/pec_fly/IMG_2186.csv\n",
            "✅ Saved: /content/drive/MyDrive/gym_keypoints/test/squat/IMG_1793 (1).csv\n",
            "✅ Saved: /content/drive/MyDrive/gym_keypoints/test/squat/IMG_1793.csv\n",
            "✅ Saved: /content/drive/MyDrive/gym_keypoints/test/squat/IMG_2176 (1).csv\n",
            "✅ Saved: /content/drive/MyDrive/gym_keypoints/test/squat/IMG_2176.csv\n",
            "✅ Saved: /content/drive/MyDrive/gym_keypoints/test/shoulder_press/IMG_1787.csv\n",
            "✅ Saved: /content/drive/MyDrive/gym_keypoints/test/shoulder_press/IMG_1788.csv\n",
            "✅ Saved: /content/drive/MyDrive/gym_keypoints/test/shoulder_press/IMG_2184 (1).csv\n",
            "✅ Saved: /content/drive/MyDrive/gym_keypoints/test/shoulder_press/IMG_2184.csv\n"
          ]
        }
      ]
    },
    {
      "cell_type": "markdown",
      "source": [
        " ✅ セル⑥：学習・テスト用CSV読み込み"
      ],
      "metadata": {
        "id": "PQNRkVUq9hv4"
      }
    },
    {
      "cell_type": "code",
      "source": [
        "X_train, y_train = load_dataset(train_csv_path)\n",
        "X_test, y_test = load_dataset(test_csv_path)\n"
      ],
      "metadata": {
        "id": "5e_Yy4NXte9q"
      },
      "execution_count": null,
      "outputs": []
    },
    {
      "cell_type": "markdown",
      "source": [
        "✅ セル⑦：データセット読み込み関数"
      ],
      "metadata": {
        "id": "13fy1bX88A5f"
      }
    },
    {
      "cell_type": "code",
      "source": [
        "def load_dataset(csv_dir):\n",
        "    data = []\n",
        "    labels = []\n",
        "    for label_folder in csv_dir.iterdir():\n",
        "        if label_folder.is_dir():\n",
        "            label = label_folder.name\n",
        "            for csv_file in label_folder.glob(\"*.csv\"):\n",
        "                df = pd.read_csv(csv_file)\n",
        "\n",
        "                # 数値列だけを取り出して平均をとる\n",
        "                numeric_df = df.select_dtypes(include=[np.number])\n",
        "                mean_row = numeric_df.mean().values\n",
        "\n",
        "                data.append(mean_row)\n",
        "                labels.append(label)\n",
        "    return np.array(data), np.array(labels)\n"
      ],
      "metadata": {
        "id": "kn4Ii8w7kR4x"
      },
      "execution_count": null,
      "outputs": []
    },
    {
      "cell_type": "markdown",
      "source": [
        "✅ セル⑧：分類器の学習と評価"
      ],
      "metadata": {
        "id": "AzqFF2h_8E0h"
      }
    },
    {
      "cell_type": "code",
      "source": [
        "from sklearn.ensemble import RandomForestClassifier\n",
        "from sklearn.metrics import classification_report, accuracy_score\n",
        "\n",
        "clf = RandomForestClassifier(n_estimators=100, random_state=42)\n",
        "clf.fit(X_train, y_train)\n",
        "y_pred = clf.predict(X_test)\n",
        "\n",
        "print(\"\\n📊 Classification Report:\\n\")\n",
        "print(classification_report(y_test, y_pred))\n",
        "print(\"✅ Accuracy:\", accuracy_score(y_test, y_pred))\n"
      ],
      "metadata": {
        "colab": {
          "base_uri": "https://localhost:8080/"
        },
        "id": "yLBuLLGkt1W_",
        "outputId": "dc5a03ed-5427-4fbc-c1b8-9f47bd019582"
      },
      "execution_count": null,
      "outputs": [
        {
          "output_type": "stream",
          "name": "stdout",
          "text": [
            "\n",
            "📊 Classification Report:\n",
            "\n",
            "                precision    recall  f1-score   support\n",
            "\n",
            "      arm_curl       0.75      0.75      0.75         4\n",
            "   bench_press       0.75      0.75      0.75         4\n",
            " bent_over_row       0.50      1.00      0.67         4\n",
            "   chest_press       1.00      0.50      0.67         4\n",
            "  dumbbell_fly       0.75      0.75      0.75         4\n",
            "   hammer_curl       1.00      0.50      0.67         4\n",
            " lat_pull_down       1.00      0.75      0.86         4\n",
            " lateral_raise       0.50      0.50      0.50         4\n",
            " leg_extension       1.00      0.50      0.67         4\n",
            "     leg_press       1.00      1.00      1.00         4\n",
            "       pec_fly       1.00      1.00      1.00         4\n",
            "shoulder_press       0.67      1.00      0.80         4\n",
            "         squat       0.80      1.00      0.89         4\n",
            "\n",
            "      accuracy                           0.77        52\n",
            "     macro avg       0.82      0.77      0.77        52\n",
            "  weighted avg       0.82      0.77      0.77        52\n",
            "\n",
            "✅ Accuracy: 0.7692307692307693\n"
          ]
        }
      ]
    },
    {
      "cell_type": "markdown",
      "source": [],
      "metadata": {
        "id": "Y9DhsygPoS0U"
      }
    },
    {
      "cell_type": "markdown",
      "source": [
        "✅ セル⑨：CSVファイル数の確認（学習・テスト用）"
      ],
      "metadata": {
        "id": "QE9DrhsFrQus"
      }
    },
    {
      "cell_type": "code",
      "source": [
        "import glob\n",
        "\n",
        "train_csv_files = glob.glob(str(train_csv_path / \"*\" / \"*.csv\"))\n",
        "test_csv_files = glob.glob(str(test_csv_path / \"*\" / \"*.csv\"))\n",
        "\n",
        "print(\"✅ Train CSV数:\", len(train_csv_files))\n",
        "print(\"✅ Test CSV数:\", len(test_csv_files))\n"
      ],
      "metadata": {
        "colab": {
          "base_uri": "https://localhost:8080/"
        },
        "id": "P2al2fzddHUX",
        "outputId": "4975b18d-9d6f-41a9-a161-356f0a0f0b30"
      },
      "execution_count": null,
      "outputs": [
        {
          "output_type": "stream",
          "name": "stdout",
          "text": [
            "✅ Train CSV数: 65\n",
            "✅ Test CSV数: 52\n"
          ]
        }
      ]
    }
  ]
}